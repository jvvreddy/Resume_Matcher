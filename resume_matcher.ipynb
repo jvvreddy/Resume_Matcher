{
  "nbformat": 4,
  "nbformat_minor": 0,
  "metadata": {
    "colab": {
      "name": "resume_matcher.ipynb",
      "provenance": []
    },
    "kernelspec": {
      "name": "python3",
      "display_name": "Python 3"
    },
    "language_info": {
      "name": "python"
    }
  },
  "cells": [
    {
      "cell_type": "code",
      "execution_count": 1,
      "metadata": {
        "colab": {
          "base_uri": "https://localhost:8080/"
        },
        "id": "7uZS9qz4iK-a",
        "outputId": "9c42c69f-7430-429b-a5fe-fdf97474381b"
      },
      "outputs": [
        {
          "output_type": "stream",
          "name": "stdout",
          "text": [
            "Collecting docx2txt\n",
            "  Downloading docx2txt-0.8.tar.gz (2.8 kB)\n",
            "Building wheels for collected packages: docx2txt\n",
            "  Building wheel for docx2txt (setup.py) ... \u001b[?25l\u001b[?25hdone\n",
            "  Created wheel for docx2txt: filename=docx2txt-0.8-py3-none-any.whl size=3980 sha256=153820d7df7d63ba45937eba3313a101b3daab7ef73fb9ec008f6f373178b92d\n",
            "  Stored in directory: /root/.cache/pip/wheels/b7/20/b2/473e3aea9a0c0d3e7b2f7bd81d06d0794fec12752733d1f3a8\n",
            "Successfully built docx2txt\n",
            "Installing collected packages: docx2txt\n",
            "Successfully installed docx2txt-0.8\n"
          ]
        }
      ],
      "source": [
        "!pip install docx2txt"
      ]
    },
    {
      "cell_type": "code",
      "source": [
        "import docx2txt\n",
        "\n",
        "resume = docx2txt.process(\"/J_Vishnu_Vardhan_Reddy.docx\")\n",
        "print(resume)"
      ],
      "metadata": {
        "colab": {
          "base_uri": "https://localhost:8080/"
        },
        "id": "pnO0uOHUjUkS",
        "outputId": "8afbe8cc-e8f2-4170-ce61-63d637cad38b"
      },
      "execution_count": 5,
      "outputs": [
        {
          "output_type": "stream",
          "name": "stdout",
          "text": [
            "J Vishnu Vardhan ReddyLast Updated on 23rd November 2021\n",
            "\n",
            "\n",
            "\n",
            "\n",
            "\n",
            "\n",
            "\n",
            "Github | Linkedin |\n",
            "\n",
            "jvvreddy958@gmail.com | +919515648722\n",
            "\n",
            "\n",
            "\n",
            "\n",
            "\n",
            "EDUCATION\n",
            "\n",
            "NIT MEGHALAYA\n",
            "\n",
            "B.TECH in ECE\n",
            "\n",
            "Jun 2022 | Shillong, INDIA CGPA : 8.14\n",
            "\n",
            "BHASHSYAM JUN. COLLEGE\n",
            "\n",
            "Intermediate | BIEAP 2018 | Guntur, A.P Marks : 975/1000\n",
            "\n",
            "BHASHYAM PUBLIC SCHOOL\n",
            "\n",
            "High School | SSC,AP 2016 | Guntur, A.P GPA : 10\n",
            "\n",
            "\n",
            "\n",
            "LINKS\n",
            "\n",
            "Github:// jvvreddy\n",
            "\n",
            "LinkedIn:// Vishnu\n",
            "\n",
            "COURSEWORK\n",
            "\n",
            "\n",
            "EXPERIENCE\n",
            "\n",
            "PIXELTESTS | Data Science Intern\n",
            "\n",
            "May 2021- JUL 2021 | Hyd\n",
            "\n",
            "\n",
            "\n",
            "\tAnalysing and visualisation of data.\n",
            "\n",
            "\tConducting statistical data analysis on given dataset.\n",
            "\n",
            "\tDeveloping Supervised machine learning predictive models for given datsets.\n",
            "\n",
            "\tModules used : Python , Numpy, Pandas, Matlplotlib, scikit-learn , seaborn\n",
            "\n",
            "\n",
            "\n",
            "Training and Placement Coordinator, ECE at NIT Meghalaya.\n",
            "\n",
            "PROJECT\n",
            "\n",
            "INSTAGRAM DATABASE CLONE | mysql\n",
            "\n",
            "\tA simple database containing names of users ,list of people they follow.\n",
            "\n",
            "\tIt also contains photos they uploaded ,likes ,comments, tags and photo tags related to them.\n",
            "\n",
            "\n",
            "\n",
            "UNDERGRADUATE\n",
            "\n",
            "Programming Python\n",
            "\n",
            "\n",
            "RESUME MATCHER\n",
            "\n",
            "\n",
            "|Python ,scikit-learn\n",
            "\n",
            "\n",
            "\n",
            "Object Oriented Programming Introduction to Machine learning Data Structures and Algorithms DataBase Management System Basics of Matlab\n",
            "\n",
            "SKILLS\n",
            "\n",
            "ADVANCED\n",
            "\n",
            "Python\n",
            "\n",
            "Data Structures OOPS\n",
            "\n",
            "Algorithms\n",
            "\n",
            "INTERMEDIATE\n",
            "\n",
            "Matlab Pandas Numpy OS MySQL\n",
            "\n",
            "FAMILIAR\n",
            "\n",
            "C\n",
            "\n",
            "C++\n",
            "\n",
            "Git and Github\n",
            "\n",
            "\t\n",
            "A Machine Learning model which detect how similar a resume is compared to a job description. It uses cosine similarity to perform this.\n",
            "\n",
            "\n",
            "\n",
            "NEWS ARTICLE RECOMMENDER SYSTEM | Python\n",
            "\n",
            "\tHybrid(content + collabortive) Filtering technique will be used to recommend the most appropriate News article to a user based on his viewed content and similar users.\n",
            "\n",
            "\n",
            "\n",
            "ACHIEVEMENTS\n",
            "\n",
            "\t\t2020\t2/50\tRAT event in Cognitia.\n",
            "\n",
            "\t\t2017\t2/130\tPentathlon quiz regional organised by ”The Hindu”. 2016\t10 GPA\tSecured 10 GPA in SSC AP.\n",
            "\n",
            "\t\t2014\t2nd\tRunners in inter-school cricket district championship.\n",
            "\n",
            "INTEREST AND HOBBIES\n",
            "\n",
            "\tOutdoor and Online Gaming.\n",
            "\n",
            "\tWatching Anime and TV Series.\n",
            "\n",
            "\tLearning new things in astronomy.\n"
          ]
        }
      ]
    },
    {
      "cell_type": "code",
      "source": [
        "job_description = docx2txt.process(\"/sample-job-description.docx\")\n",
        "print(job_description)"
      ],
      "metadata": {
        "colab": {
          "base_uri": "https://localhost:8080/"
        },
        "id": "jcbCXyZDkUMa",
        "outputId": "1bacc312-b8f4-4f72-daf3-c9d7dd2d1103"
      },
      "execution_count": 6,
      "outputs": [
        {
          "output_type": "stream",
          "name": "stdout",
          "text": [
            "Sample Job Description\n",
            "\n",
            "\n",
            "\n",
            "\tJob Title:\tHuman Resources Assistant\n",
            "\n",
            "\n",
            "\n",
            "\tJob Description:\tThis position reports to the Human Resources (HR) director and\n",
            "\n",
            "interfaces with company managers and HR staff. Company XYZ is committed to an employee-orientated, high performance culture that emphasizes empowerment, quality, continuous improvement, and the recruitment and ongoing development of a superior workforce.\n",
            "\n",
            "\n",
            "\n",
            "The intern will gain exposure\n",
            "\n",
            "\tto these functional areas:\tHR Information Systems; Employee relations; Training and development;\n",
            "\n",
            "Benefits; Compensation; Organization development; Employment\n",
            "\n",
            "\n",
            "\n",
            "\n",
            "\n",
            "\t\tSpecific responsibilities:\t-\tEmployee orientation and training logistics and recordkeeping\n",
            "\n",
            "\t\tCompany-wide committee facilitation and participation\n",
            "\n",
            "\t\tEmployee safety, welfare, wellness and health reporting\n",
            "\n",
            "\t\tProvide direct support to employees during implementation of HR services, policies and programs\n",
            "\n",
            "\n",
            "\n",
            "\n",
            "\n",
            "What skills will the\n",
            "\n",
            "\t\tintern learn:\t-\t\tActive participation in strategic planning process, including developing goals, objectives and processes\n",
            "\n",
            "\t\tHow to engage professionally in HR meetings and seminars with other HR professionals in the region\n",
            "\n",
            "\t\tGain experience with Human Resources Information system (HRIS) database management and record keeping\n",
            "\n",
            "\t\tApplication of HR law and compliance with governmental regulations\n",
            "\n",
            "\n",
            "\n",
            "\n",
            "\n",
            "\n",
            "\n",
            "\t\tQualifications:\t-\tProficient with Microsoft Word and Excel\n",
            "\n",
            "\t\tGeneral knowledge of employment law and practices\n",
            "\n",
            "\t\tAble to maintain a high level of confidentiality\n",
            "\n",
            "\t\tEffective oral and written management communication skills\n"
          ]
        }
      ]
    },
    {
      "cell_type": "code",
      "source": [
        "text = [resume, job_description]\n",
        "from sklearn.feature_extraction.text import CountVectorizer\n",
        "cv = CountVectorizer()\n",
        "count_matrix = cv.fit_transform(text)\n",
        "from sklearn.metrics.pairwise import cosine_similarity\n",
        "\n",
        "# Print similarity scores\n",
        "print(\"\\nSimlarity Scores:\")\n",
        "print(cosine_similarity(count_matrix))"
      ],
      "metadata": {
        "colab": {
          "base_uri": "https://localhost:8080/"
        },
        "id": "RvkBv6ShkbwQ",
        "outputId": "c1e85566-41b1-4b30-ce17-f20022719d80"
      },
      "execution_count": 7,
      "outputs": [
        {
          "output_type": "stream",
          "name": "stdout",
          "text": [
            "\n",
            "Simlarity Scores:\n",
            "[[1.         0.42372533]\n",
            " [0.42372533 1.        ]]\n"
          ]
        }
      ]
    },
    {
      "cell_type": "code",
      "source": [
        "matchPercentage = cosine_similarity(count_matrix)[0][1] * 100\n",
        "matchPercentage = round(matchPercentage)\n",
        "print(\"Your resume matches about \" + str(matchPercentage) + \"% of the job description.\")"
      ],
      "metadata": {
        "colab": {
          "base_uri": "https://localhost:8080/"
        },
        "id": "67Ol_8cokcrZ",
        "outputId": "5b5152d6-99e0-40ad-aa5f-94a1a654e945"
      },
      "execution_count": 8,
      "outputs": [
        {
          "output_type": "stream",
          "name": "stdout",
          "text": [
            "Your resume matches about 42% of the job description.\n"
          ]
        }
      ]
    }
  ]
}